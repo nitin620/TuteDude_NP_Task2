{
 "cells": [
  {
   "cell_type": "code",
   "execution_count": 19,
   "id": "4fc78ebc-1e8e-4657-922a-3c8a564d94c3",
   "metadata": {},
   "outputs": [
    {
     "name": "stdin",
     "output_type": "stream",
     "text": [
      "Enter a number:  10\n"
     ]
    },
    {
     "name": "stdout",
     "output_type": "stream",
     "text": [
      "Even Number\n"
     ]
    }
   ],
   "source": [
    "# Task 1: Check if a Number is Even or Odd\n",
    "a = int(input(\"Enter a number: \"))\n",
    "\n",
    "if a % 2 == 0 :\n",
    "    print(\"Even Number\")\n",
    "else:\n",
    "    print(\"Odd Number\")"
   ]
  },
  {
   "cell_type": "code",
   "execution_count": 26,
   "id": "38f65df7-5de9-47cf-9ad1-bf6af171f1a5",
   "metadata": {},
   "outputs": [
    {
     "name": "stdout",
     "output_type": "stream",
     "text": [
      "Sum from 1 to 50 is: 1275\n"
     ]
    }
   ],
   "source": [
    "#Task 2: Sum of Integers from 1 to 50 Using a Loop\n",
    "\n",
    "total = 0\n",
    "for i in range(1, 51):\n",
    "    total += i\n",
    "\n",
    "print(\"Sum from 1 to 50 is:\", total)"
   ]
  },
  {
   "cell_type": "code",
   "execution_count": null,
   "id": "fe835e46-91f9-44f9-942f-041e3528ff33",
   "metadata": {},
   "outputs": [],
   "source": []
  }
 ],
 "metadata": {
  "kernelspec": {
   "display_name": "Python 3 (ipykernel)",
   "language": "python",
   "name": "python3"
  },
  "language_info": {
   "codemirror_mode": {
    "name": "ipython",
    "version": 3
   },
   "file_extension": ".py",
   "mimetype": "text/x-python",
   "name": "python",
   "nbconvert_exporter": "python",
   "pygments_lexer": "ipython3",
   "version": "3.12.7"
  }
 },
 "nbformat": 4,
 "nbformat_minor": 5
}
